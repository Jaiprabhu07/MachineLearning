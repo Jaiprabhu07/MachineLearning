{
 "cells": [
  {
   "cell_type": "code",
   "execution_count": 4,
   "metadata": {},
   "outputs": [],
   "source": [
    "import pandas as pd\n",
    "import numpy as np\n",
    "import matplotlib.pyplot as plt"
   ]
  },
  {
   "cell_type": "code",
   "execution_count": 5,
   "metadata": {},
   "outputs": [],
   "source": [
    "train_data = pd.read_csv(\"train.csv\")"
   ]
  },
  {
   "cell_type": "code",
   "execution_count": 6,
   "metadata": {},
   "outputs": [
    {
     "data": {
      "text/html": [
       "<div>\n",
       "<style scoped>\n",
       "    .dataframe tbody tr th:only-of-type {\n",
       "        vertical-align: middle;\n",
       "    }\n",
       "\n",
       "    .dataframe tbody tr th {\n",
       "        vertical-align: top;\n",
       "    }\n",
       "\n",
       "    .dataframe thead th {\n",
       "        text-align: right;\n",
       "    }\n",
       "</style>\n",
       "<table border=\"1\" class=\"dataframe\">\n",
       "  <thead>\n",
       "    <tr style=\"text-align: right;\">\n",
       "      <th></th>\n",
       "      <th>ID</th>\n",
       "      <th>y</th>\n",
       "      <th>X0</th>\n",
       "      <th>X1</th>\n",
       "      <th>X2</th>\n",
       "      <th>X3</th>\n",
       "      <th>X4</th>\n",
       "      <th>X5</th>\n",
       "      <th>X6</th>\n",
       "      <th>X8</th>\n",
       "      <th>...</th>\n",
       "      <th>X375</th>\n",
       "      <th>X376</th>\n",
       "      <th>X377</th>\n",
       "      <th>X378</th>\n",
       "      <th>X379</th>\n",
       "      <th>X380</th>\n",
       "      <th>X382</th>\n",
       "      <th>X383</th>\n",
       "      <th>X384</th>\n",
       "      <th>X385</th>\n",
       "    </tr>\n",
       "  </thead>\n",
       "  <tbody>\n",
       "    <tr>\n",
       "      <th>0</th>\n",
       "      <td>0</td>\n",
       "      <td>130.81</td>\n",
       "      <td>k</td>\n",
       "      <td>v</td>\n",
       "      <td>at</td>\n",
       "      <td>a</td>\n",
       "      <td>d</td>\n",
       "      <td>u</td>\n",
       "      <td>j</td>\n",
       "      <td>o</td>\n",
       "      <td>...</td>\n",
       "      <td>0</td>\n",
       "      <td>0</td>\n",
       "      <td>1</td>\n",
       "      <td>0</td>\n",
       "      <td>0</td>\n",
       "      <td>0</td>\n",
       "      <td>0</td>\n",
       "      <td>0</td>\n",
       "      <td>0</td>\n",
       "      <td>0</td>\n",
       "    </tr>\n",
       "    <tr>\n",
       "      <th>1</th>\n",
       "      <td>6</td>\n",
       "      <td>88.53</td>\n",
       "      <td>k</td>\n",
       "      <td>t</td>\n",
       "      <td>av</td>\n",
       "      <td>e</td>\n",
       "      <td>d</td>\n",
       "      <td>y</td>\n",
       "      <td>l</td>\n",
       "      <td>o</td>\n",
       "      <td>...</td>\n",
       "      <td>1</td>\n",
       "      <td>0</td>\n",
       "      <td>0</td>\n",
       "      <td>0</td>\n",
       "      <td>0</td>\n",
       "      <td>0</td>\n",
       "      <td>0</td>\n",
       "      <td>0</td>\n",
       "      <td>0</td>\n",
       "      <td>0</td>\n",
       "    </tr>\n",
       "    <tr>\n",
       "      <th>2</th>\n",
       "      <td>7</td>\n",
       "      <td>76.26</td>\n",
       "      <td>az</td>\n",
       "      <td>w</td>\n",
       "      <td>n</td>\n",
       "      <td>c</td>\n",
       "      <td>d</td>\n",
       "      <td>x</td>\n",
       "      <td>j</td>\n",
       "      <td>x</td>\n",
       "      <td>...</td>\n",
       "      <td>0</td>\n",
       "      <td>0</td>\n",
       "      <td>0</td>\n",
       "      <td>0</td>\n",
       "      <td>0</td>\n",
       "      <td>0</td>\n",
       "      <td>1</td>\n",
       "      <td>0</td>\n",
       "      <td>0</td>\n",
       "      <td>0</td>\n",
       "    </tr>\n",
       "    <tr>\n",
       "      <th>3</th>\n",
       "      <td>9</td>\n",
       "      <td>80.62</td>\n",
       "      <td>az</td>\n",
       "      <td>t</td>\n",
       "      <td>n</td>\n",
       "      <td>f</td>\n",
       "      <td>d</td>\n",
       "      <td>x</td>\n",
       "      <td>l</td>\n",
       "      <td>e</td>\n",
       "      <td>...</td>\n",
       "      <td>0</td>\n",
       "      <td>0</td>\n",
       "      <td>0</td>\n",
       "      <td>0</td>\n",
       "      <td>0</td>\n",
       "      <td>0</td>\n",
       "      <td>0</td>\n",
       "      <td>0</td>\n",
       "      <td>0</td>\n",
       "      <td>0</td>\n",
       "    </tr>\n",
       "    <tr>\n",
       "      <th>4</th>\n",
       "      <td>13</td>\n",
       "      <td>78.02</td>\n",
       "      <td>az</td>\n",
       "      <td>v</td>\n",
       "      <td>n</td>\n",
       "      <td>f</td>\n",
       "      <td>d</td>\n",
       "      <td>h</td>\n",
       "      <td>d</td>\n",
       "      <td>n</td>\n",
       "      <td>...</td>\n",
       "      <td>0</td>\n",
       "      <td>0</td>\n",
       "      <td>0</td>\n",
       "      <td>0</td>\n",
       "      <td>0</td>\n",
       "      <td>0</td>\n",
       "      <td>0</td>\n",
       "      <td>0</td>\n",
       "      <td>0</td>\n",
       "      <td>0</td>\n",
       "    </tr>\n",
       "  </tbody>\n",
       "</table>\n",
       "<p>5 rows × 378 columns</p>\n",
       "</div>"
      ],
      "text/plain": [
       "   ID       y  X0 X1  X2 X3 X4 X5 X6 X8  ...  X375  X376  X377  X378  X379  \\\n",
       "0   0  130.81   k  v  at  a  d  u  j  o  ...     0     0     1     0     0   \n",
       "1   6   88.53   k  t  av  e  d  y  l  o  ...     1     0     0     0     0   \n",
       "2   7   76.26  az  w   n  c  d  x  j  x  ...     0     0     0     0     0   \n",
       "3   9   80.62  az  t   n  f  d  x  l  e  ...     0     0     0     0     0   \n",
       "4  13   78.02  az  v   n  f  d  h  d  n  ...     0     0     0     0     0   \n",
       "\n",
       "   X380  X382  X383  X384  X385  \n",
       "0     0     0     0     0     0  \n",
       "1     0     0     0     0     0  \n",
       "2     0     1     0     0     0  \n",
       "3     0     0     0     0     0  \n",
       "4     0     0     0     0     0  \n",
       "\n",
       "[5 rows x 378 columns]"
      ]
     },
     "execution_count": 6,
     "metadata": {},
     "output_type": "execute_result"
    }
   ],
   "source": [
    "train_data.head()"
   ]
  },
  {
   "cell_type": "code",
   "execution_count": 7,
   "metadata": {},
   "outputs": [
    {
     "data": {
      "text/html": [
       "<div>\n",
       "<style scoped>\n",
       "    .dataframe tbody tr th:only-of-type {\n",
       "        vertical-align: middle;\n",
       "    }\n",
       "\n",
       "    .dataframe tbody tr th {\n",
       "        vertical-align: top;\n",
       "    }\n",
       "\n",
       "    .dataframe thead th {\n",
       "        text-align: right;\n",
       "    }\n",
       "</style>\n",
       "<table border=\"1\" class=\"dataframe\">\n",
       "  <thead>\n",
       "    <tr style=\"text-align: right;\">\n",
       "      <th></th>\n",
       "      <th>ID</th>\n",
       "      <th>y</th>\n",
       "      <th>X0</th>\n",
       "      <th>X1</th>\n",
       "      <th>X2</th>\n",
       "      <th>X3</th>\n",
       "      <th>X4</th>\n",
       "      <th>X5</th>\n",
       "      <th>X6</th>\n",
       "      <th>X8</th>\n",
       "      <th>...</th>\n",
       "      <th>X375</th>\n",
       "      <th>X376</th>\n",
       "      <th>X377</th>\n",
       "      <th>X378</th>\n",
       "      <th>X379</th>\n",
       "      <th>X380</th>\n",
       "      <th>X382</th>\n",
       "      <th>X383</th>\n",
       "      <th>X384</th>\n",
       "      <th>X385</th>\n",
       "    </tr>\n",
       "  </thead>\n",
       "  <tbody>\n",
       "    <tr>\n",
       "      <th>4204</th>\n",
       "      <td>8405</td>\n",
       "      <td>107.39</td>\n",
       "      <td>ak</td>\n",
       "      <td>s</td>\n",
       "      <td>as</td>\n",
       "      <td>c</td>\n",
       "      <td>d</td>\n",
       "      <td>aa</td>\n",
       "      <td>d</td>\n",
       "      <td>q</td>\n",
       "      <td>...</td>\n",
       "      <td>1</td>\n",
       "      <td>0</td>\n",
       "      <td>0</td>\n",
       "      <td>0</td>\n",
       "      <td>0</td>\n",
       "      <td>0</td>\n",
       "      <td>0</td>\n",
       "      <td>0</td>\n",
       "      <td>0</td>\n",
       "      <td>0</td>\n",
       "    </tr>\n",
       "    <tr>\n",
       "      <th>4205</th>\n",
       "      <td>8406</td>\n",
       "      <td>108.77</td>\n",
       "      <td>j</td>\n",
       "      <td>o</td>\n",
       "      <td>t</td>\n",
       "      <td>d</td>\n",
       "      <td>d</td>\n",
       "      <td>aa</td>\n",
       "      <td>h</td>\n",
       "      <td>h</td>\n",
       "      <td>...</td>\n",
       "      <td>0</td>\n",
       "      <td>1</td>\n",
       "      <td>0</td>\n",
       "      <td>0</td>\n",
       "      <td>0</td>\n",
       "      <td>0</td>\n",
       "      <td>0</td>\n",
       "      <td>0</td>\n",
       "      <td>0</td>\n",
       "      <td>0</td>\n",
       "    </tr>\n",
       "    <tr>\n",
       "      <th>4206</th>\n",
       "      <td>8412</td>\n",
       "      <td>109.22</td>\n",
       "      <td>ak</td>\n",
       "      <td>v</td>\n",
       "      <td>r</td>\n",
       "      <td>a</td>\n",
       "      <td>d</td>\n",
       "      <td>aa</td>\n",
       "      <td>g</td>\n",
       "      <td>e</td>\n",
       "      <td>...</td>\n",
       "      <td>0</td>\n",
       "      <td>0</td>\n",
       "      <td>1</td>\n",
       "      <td>0</td>\n",
       "      <td>0</td>\n",
       "      <td>0</td>\n",
       "      <td>0</td>\n",
       "      <td>0</td>\n",
       "      <td>0</td>\n",
       "      <td>0</td>\n",
       "    </tr>\n",
       "    <tr>\n",
       "      <th>4207</th>\n",
       "      <td>8415</td>\n",
       "      <td>87.48</td>\n",
       "      <td>al</td>\n",
       "      <td>r</td>\n",
       "      <td>e</td>\n",
       "      <td>f</td>\n",
       "      <td>d</td>\n",
       "      <td>aa</td>\n",
       "      <td>l</td>\n",
       "      <td>u</td>\n",
       "      <td>...</td>\n",
       "      <td>0</td>\n",
       "      <td>0</td>\n",
       "      <td>0</td>\n",
       "      <td>0</td>\n",
       "      <td>0</td>\n",
       "      <td>0</td>\n",
       "      <td>0</td>\n",
       "      <td>0</td>\n",
       "      <td>0</td>\n",
       "      <td>0</td>\n",
       "    </tr>\n",
       "    <tr>\n",
       "      <th>4208</th>\n",
       "      <td>8417</td>\n",
       "      <td>110.85</td>\n",
       "      <td>z</td>\n",
       "      <td>r</td>\n",
       "      <td>ae</td>\n",
       "      <td>c</td>\n",
       "      <td>d</td>\n",
       "      <td>aa</td>\n",
       "      <td>g</td>\n",
       "      <td>w</td>\n",
       "      <td>...</td>\n",
       "      <td>1</td>\n",
       "      <td>0</td>\n",
       "      <td>0</td>\n",
       "      <td>0</td>\n",
       "      <td>0</td>\n",
       "      <td>0</td>\n",
       "      <td>0</td>\n",
       "      <td>0</td>\n",
       "      <td>0</td>\n",
       "      <td>0</td>\n",
       "    </tr>\n",
       "  </tbody>\n",
       "</table>\n",
       "<p>5 rows × 378 columns</p>\n",
       "</div>"
      ],
      "text/plain": [
       "        ID       y  X0 X1  X2 X3 X4  X5 X6 X8  ...  X375  X376  X377  X378  \\\n",
       "4204  8405  107.39  ak  s  as  c  d  aa  d  q  ...     1     0     0     0   \n",
       "4205  8406  108.77   j  o   t  d  d  aa  h  h  ...     0     1     0     0   \n",
       "4206  8412  109.22  ak  v   r  a  d  aa  g  e  ...     0     0     1     0   \n",
       "4207  8415   87.48  al  r   e  f  d  aa  l  u  ...     0     0     0     0   \n",
       "4208  8417  110.85   z  r  ae  c  d  aa  g  w  ...     1     0     0     0   \n",
       "\n",
       "      X379  X380  X382  X383  X384  X385  \n",
       "4204     0     0     0     0     0     0  \n",
       "4205     0     0     0     0     0     0  \n",
       "4206     0     0     0     0     0     0  \n",
       "4207     0     0     0     0     0     0  \n",
       "4208     0     0     0     0     0     0  \n",
       "\n",
       "[5 rows x 378 columns]"
      ]
     },
     "execution_count": 7,
     "metadata": {},
     "output_type": "execute_result"
    }
   ],
   "source": [
    "train_data.tail()"
   ]
  },
  {
   "cell_type": "markdown",
   "metadata": {},
   "source": [
    "# Exploratory Data Analysis"
   ]
  },
  {
   "cell_type": "code",
   "execution_count": 8,
   "metadata": {},
   "outputs": [
    {
     "data": {
      "text/plain": [
       "(4209, 378)"
      ]
     },
     "execution_count": 8,
     "metadata": {},
     "output_type": "execute_result"
    }
   ],
   "source": [
    "train_data.shape"
   ]
  },
  {
   "cell_type": "code",
   "execution_count": 9,
   "metadata": {},
   "outputs": [
    {
     "name": "stdout",
     "output_type": "stream",
     "text": [
      "<class 'pandas.core.frame.DataFrame'>\n",
      "RangeIndex: 4209 entries, 0 to 4208\n",
      "Columns: 378 entries, ID to X385\n",
      "dtypes: float64(1), int64(369), object(8)\n",
      "memory usage: 12.1+ MB\n"
     ]
    }
   ],
   "source": [
    "train_data.info()"
   ]
  },
  {
   "cell_type": "code",
   "execution_count": 10,
   "metadata": {},
   "outputs": [
    {
     "data": {
      "text/plain": [
       "False    4209\n",
       "Name: ID, dtype: int64"
      ]
     },
     "execution_count": 10,
     "metadata": {},
     "output_type": "execute_result"
    }
   ],
   "source": [
    "ans = pd.isnull(train_data['ID']).value_counts()\n",
    "ans"
   ]
  },
  {
   "cell_type": "code",
   "execution_count": 11,
   "metadata": {},
   "outputs": [
    {
     "data": {
      "text/plain": [
       "Index([False], dtype='object')"
      ]
     },
     "execution_count": 11,
     "metadata": {},
     "output_type": "execute_result"
    }
   ],
   "source": [
    "ans.index"
   ]
  },
  {
   "cell_type": "markdown",
   "metadata": {},
   "source": [
    "# Step 1:  Check for null values in each and every column"
   ]
  },
  {
   "cell_type": "code",
   "execution_count": 12,
   "metadata": {},
   "outputs": [
    {
     "name": "stdout",
     "output_type": "stream",
     "text": [
      "0 column has null values\n"
     ]
    }
   ],
   "source": [
    "count = 0\n",
    "for x in train_data.columns:\n",
    "    isnullCheck = pd.isnull(train_data[x]).value_counts()\n",
    "    if((isnullCheck.index) == (True)):\n",
    "        count+=1\n",
    "print(str(count) +\" column has null values\")"
   ]
  },
  {
   "cell_type": "markdown",
   "metadata": {},
   "source": [
    "# No column has null values"
   ]
  },
  {
   "cell_type": "markdown",
   "metadata": {},
   "source": [
    "# Step 2 : Check for outliers"
   ]
  },
  {
   "cell_type": "code",
   "execution_count": 13,
   "metadata": {},
   "outputs": [
    {
     "data": {
      "image/png": "[encoded data removed]",
      "text/plain": [
       "<Figure size 360x288 with 1 Axes>"
      ]
     },
     "metadata": {
      "needs_background": "light"
     },
     "output_type": "display_data"
    }
   ],
   "source": [
    "plt.figure(figsize=(5,4))\n",
    "plt.hist(train_data['y'])\n",
    "plt.xlabel(\"Times in second\")\n",
    "plt.ylabel(\"Frequency/No of times\")\n",
    "plt.show()"
   ]
  },
  {
   "cell_type": "code",
   "execution_count": 14,
   "metadata": {},
   "outputs": [],
   "source": [
    "# There are some outliers in the above graph"
   ]
  },
  {
   "cell_type": "markdown",
   "metadata": {},
   "source": [
    "# Feature Engineering\n",
    "# Check for categorical, Binary and constant features"
   ]
  },
  {
   "cell_type": "code",
   "execution_count": 15,
   "metadata": {},
   "outputs": [
    {
     "name": "stdout",
     "output_type": "stream",
     "text": [
      "constant Feature = 12\n",
      "Binary Feature = 356\n",
      "Categorical Feature = 8\n"
     ]
    }
   ],
   "source": [
    "constant_feature=[]\n",
    "binary_feature=[]\n",
    "categorical_feature=[]\n",
    "for x in train_data.columns:\n",
    "    if 'X' in x:\n",
    "        val = np.array(train_data[x].unique())\n",
    "        value = len(val)\n",
    "        if( value == 1):\n",
    "            constant_feature.append(x)\n",
    "        elif( value == 2):\n",
    "            binary_feature.append(x)\n",
    "        else:\n",
    "            categorical_feature.append(x)\n",
    "print(\"constant Feature = \" + str(len(constant_feature)))\n",
    "print(\"Binary Feature = \" + str(len(binary_feature)))\n",
    "print(\"Categorical Feature = \" + str(len(categorical_feature)))"
   ]
  },
  {
   "cell_type": "markdown",
   "metadata": {},
   "source": [
    "# Model with XG Boost"
   ]
  },
  {
   "cell_type": "code",
   "execution_count": 16,
   "metadata": {},
   "outputs": [],
   "source": [
    "test_data = pd.read_csv(\"test.csv\")"
   ]
  },
  {
   "cell_type": "code",
   "execution_count": 42,
   "metadata": {},
   "outputs": [],
   "source": [
    "x_train = train_data[categorical_feature]\n",
    "Y_train = train_data['y'].values\n",
    "x_test = test_data[categorical_feature]\n",
    "y_test = test_data['ID']"
   ]
  },
  {
   "cell_type": "code",
   "execution_count": 43,
   "metadata": {},
   "outputs": [
    {
     "name": "stderr",
     "output_type": "stream",
     "text": [
      "/usr/local/lib/python3.7/site-packages/ipykernel_launcher.py:3: SettingWithCopyWarning: \n",
      "A value is trying to be set on a copy of a slice from a DataFrame.\n",
      "Try using .loc[row_indexer,col_indexer] = value instead\n",
      "\n",
      "See the caveats in the documentation: https://pandas.pydata.org/pandas-docs/stable/user_guide/indexing.html#returning-a-view-versus-a-copy\n",
      "  This is separate from the ipykernel package so we can avoid doing imports until\n",
      "/usr/local/lib/python3.7/site-packages/ipykernel_launcher.py:4: SettingWithCopyWarning: \n",
      "A value is trying to be set on a copy of a slice from a DataFrame.\n",
      "Try using .loc[row_indexer,col_indexer] = value instead\n",
      "\n",
      "See the caveats in the documentation: https://pandas.pydata.org/pandas-docs/stable/user_guide/indexing.html#returning-a-view-versus-a-copy\n",
      "  after removing the cwd from sys.path.\n"
     ]
    }
   ],
   "source": [
    "for x in categorical_feature:\n",
    "    mapper = lambda x: sum(ord(digit) for digit in x)\n",
    "    x_train[x] = x_train[x].apply(mapper)\n",
    "    x_test[x] = x_test[x].apply(mapper)"
   ]
  },
  {
   "cell_type": "code",
   "execution_count": 44,
   "metadata": {},
   "outputs": [
    {
     "data": {
      "text/html": [
       "<div>\n",
       "<style scoped>\n",
       "    .dataframe tbody tr th:only-of-type {\n",
       "        vertical-align: middle;\n",
       "    }\n",
       "\n",
       "    .dataframe tbody tr th {\n",
       "        vertical-align: top;\n",
       "    }\n",
       "\n",
       "    .dataframe thead th {\n",
       "        text-align: right;\n",
       "    }\n",
       "</style>\n",
       "<table border=\"1\" class=\"dataframe\">\n",
       "  <thead>\n",
       "    <tr style=\"text-align: right;\">\n",
       "      <th></th>\n",
       "      <th>X0</th>\n",
       "      <th>X1</th>\n",
       "      <th>X2</th>\n",
       "      <th>X3</th>\n",
       "      <th>X4</th>\n",
       "      <th>X5</th>\n",
       "      <th>X6</th>\n",
       "      <th>X8</th>\n",
       "    </tr>\n",
       "  </thead>\n",
       "  <tbody>\n",
       "    <tr>\n",
       "      <th>0</th>\n",
       "      <td>107</td>\n",
       "      <td>118</td>\n",
       "      <td>213</td>\n",
       "      <td>97</td>\n",
       "      <td>100</td>\n",
       "      <td>117</td>\n",
       "      <td>106</td>\n",
       "      <td>111</td>\n",
       "    </tr>\n",
       "    <tr>\n",
       "      <th>1</th>\n",
       "      <td>107</td>\n",
       "      <td>116</td>\n",
       "      <td>215</td>\n",
       "      <td>101</td>\n",
       "      <td>100</td>\n",
       "      <td>121</td>\n",
       "      <td>108</td>\n",
       "      <td>111</td>\n",
       "    </tr>\n",
       "    <tr>\n",
       "      <th>2</th>\n",
       "      <td>219</td>\n",
       "      <td>119</td>\n",
       "      <td>110</td>\n",
       "      <td>99</td>\n",
       "      <td>100</td>\n",
       "      <td>120</td>\n",
       "      <td>106</td>\n",
       "      <td>120</td>\n",
       "    </tr>\n",
       "    <tr>\n",
       "      <th>3</th>\n",
       "      <td>219</td>\n",
       "      <td>116</td>\n",
       "      <td>110</td>\n",
       "      <td>102</td>\n",
       "      <td>100</td>\n",
       "      <td>120</td>\n",
       "      <td>108</td>\n",
       "      <td>101</td>\n",
       "    </tr>\n",
       "    <tr>\n",
       "      <th>4</th>\n",
       "      <td>219</td>\n",
       "      <td>118</td>\n",
       "      <td>110</td>\n",
       "      <td>102</td>\n",
       "      <td>100</td>\n",
       "      <td>104</td>\n",
       "      <td>100</td>\n",
       "      <td>110</td>\n",
       "    </tr>\n",
       "    <tr>\n",
       "      <th>...</th>\n",
       "      <td>...</td>\n",
       "      <td>...</td>\n",
       "      <td>...</td>\n",
       "      <td>...</td>\n",
       "      <td>...</td>\n",
       "      <td>...</td>\n",
       "      <td>...</td>\n",
       "      <td>...</td>\n",
       "    </tr>\n",
       "    <tr>\n",
       "      <th>4204</th>\n",
       "      <td>204</td>\n",
       "      <td>115</td>\n",
       "      <td>212</td>\n",
       "      <td>99</td>\n",
       "      <td>100</td>\n",
       "      <td>194</td>\n",
       "      <td>100</td>\n",
       "      <td>113</td>\n",
       "    </tr>\n",
       "    <tr>\n",
       "      <th>4205</th>\n",
       "      <td>106</td>\n",
       "      <td>111</td>\n",
       "      <td>116</td>\n",
       "      <td>100</td>\n",
       "      <td>100</td>\n",
       "      <td>194</td>\n",
       "      <td>104</td>\n",
       "      <td>104</td>\n",
       "    </tr>\n",
       "    <tr>\n",
       "      <th>4206</th>\n",
       "      <td>204</td>\n",
       "      <td>118</td>\n",
       "      <td>114</td>\n",
       "      <td>97</td>\n",
       "      <td>100</td>\n",
       "      <td>194</td>\n",
       "      <td>103</td>\n",
       "      <td>101</td>\n",
       "    </tr>\n",
       "    <tr>\n",
       "      <th>4207</th>\n",
       "      <td>205</td>\n",
       "      <td>114</td>\n",
       "      <td>101</td>\n",
       "      <td>102</td>\n",
       "      <td>100</td>\n",
       "      <td>194</td>\n",
       "      <td>108</td>\n",
       "      <td>117</td>\n",
       "    </tr>\n",
       "    <tr>\n",
       "      <th>4208</th>\n",
       "      <td>122</td>\n",
       "      <td>114</td>\n",
       "      <td>198</td>\n",
       "      <td>99</td>\n",
       "      <td>100</td>\n",
       "      <td>194</td>\n",
       "      <td>103</td>\n",
       "      <td>119</td>\n",
       "    </tr>\n",
       "  </tbody>\n",
       "</table>\n",
       "<p>4209 rows × 8 columns</p>\n",
       "</div>"
      ],
      "text/plain": [
       "       X0   X1   X2   X3   X4   X5   X6   X8\n",
       "0     107  118  213   97  100  117  106  111\n",
       "1     107  116  215  101  100  121  108  111\n",
       "2     219  119  110   99  100  120  106  120\n",
       "3     219  116  110  102  100  120  108  101\n",
       "4     219  118  110  102  100  104  100  110\n",
       "...   ...  ...  ...  ...  ...  ...  ...  ...\n",
       "4204  204  115  212   99  100  194  100  113\n",
       "4205  106  111  116  100  100  194  104  104\n",
       "4206  204  118  114   97  100  194  103  101\n",
       "4207  205  114  101  102  100  194  108  117\n",
       "4208  122  114  198   99  100  194  103  119\n",
       "\n",
       "[4209 rows x 8 columns]"
      ]
     },
     "execution_count": 44,
     "metadata": {},
     "output_type": "execute_result"
    }
   ],
   "source": [
    "x_train"
   ]
  },
  {
   "cell_type": "code",
   "execution_count": 45,
   "metadata": {},
   "outputs": [
    {
     "data": {
      "text/plain": [
       "array([130.81,  88.53,  76.26, ..., 109.22,  87.48, 110.85])"
      ]
     },
     "execution_count": 45,
     "metadata": {},
     "output_type": "execute_result"
    }
   ],
   "source": [
    "Y_train"
   ]
  },
  {
   "cell_type": "code",
   "execution_count": 21,
   "metadata": {},
   "outputs": [
    {
     "data": {
      "text/plain": [
       "0     k\n",
       "1     k\n",
       "2    az\n",
       "3    az\n",
       "4    az\n",
       "Name: X0, dtype: object"
      ]
     },
     "execution_count": 21,
     "metadata": {},
     "output_type": "execute_result"
    }
   ],
   "source": [
    "train_data['X0'].head()"
   ]
  },
  {
   "cell_type": "code",
   "execution_count": 22,
   "metadata": {},
   "outputs": [
    {
     "data": {
      "text/plain": [
       "107"
      ]
     },
     "execution_count": 22,
     "metadata": {},
     "output_type": "execute_result"
    }
   ],
   "source": [
    "ord('k')"
   ]
  },
  {
   "cell_type": "code",
   "execution_count": 26,
   "metadata": {},
   "outputs": [
    {
     "data": {
      "text/plain": [
       "(4209, 8)"
      ]
     },
     "execution_count": 26,
     "metadata": {},
     "output_type": "execute_result"
    }
   ],
   "source": [
    "x_train.shape"
   ]
  },
  {
   "cell_type": "code",
   "execution_count": 47,
   "metadata": {},
   "outputs": [
    {
     "data": {
      "text/plain": [
       "(4209,)"
      ]
     },
     "execution_count": 47,
     "metadata": {},
     "output_type": "execute_result"
    }
   ],
   "source": [
    "Y_train.shape"
   ]
  },
  {
   "cell_type": "markdown",
   "metadata": {},
   "source": [
    "# Modeling"
   ]
  },
  {
   "cell_type": "code",
   "execution_count": 49,
   "metadata": {},
   "outputs": [
    {
     "name": "stdout",
     "output_type": "stream",
     "text": [
      "[16:17:48] WARNING: /workspace/src/learner.cc:328: \n",
      "Parameters: { Objective } might not be used.\n",
      "\n",
      "  This may not be accurate due to some parameters are only used in language bindings but\n",
      "  passed down to XGBoost core.  Or some parameters are not used but slip through this\n",
      "  verification. Please open an issue if you find above cases.\n",
      "\n",
      "\n",
      "[0]\tTrain-rmse:98.99499\tValidation-rmse:98.88541\tTrain-r2:-59.49493\tValidation-r2:-61.82254\n",
      "Multiple eval metrics have been passed: 'Validation-r2' will be used for early stopping.\n",
      "\n",
      "Will train until Validation-r2 hasn't improved in 50 rounds.\n",
      "[10]\tTrain-rmse:81.13201\tValidation-rmse:81.05647\tTrain-r2:-39.63282\tValidation-r2:-41.21106\n",
      "[20]\tTrain-rmse:66.58110\tValidation-rmse:66.53622\tTrain-r2:-26.36493\tValidation-r2:-27.44248\n",
      "[30]\tTrain-rmse:54.71517\tValidation-rmse:54.69167\tTrain-r2:-17.48025\tValidation-r2:-18.21735\n",
      "[40]\tTrain-rmse:45.06698\tValidation-rmse:45.05594\tTrain-r2:-11.53746\tValidation-r2:-12.04233\n",
      "[50]\tTrain-rmse:37.24511\tValidation-rmse:37.24313\tTrain-r2:-7.56310\tValidation-r2:-7.91135\n",
      "[60]\tTrain-rmse:30.92287\tValidation-rmse:30.92188\tTrain-r2:-4.90272\tValidation-r2:-5.14303\n",
      "[70]\tTrain-rmse:25.84129\tValidation-rmse:25.81387\tTrain-r2:-3.12212\tValidation-r2:-3.28112\n",
      "[80]\tTrain-rmse:21.79238\tValidation-rmse:21.72686\tTrain-r2:-1.93158\tValidation-r2:-2.03281\n",
      "[90]\tTrain-rmse:18.57984\tValidation-rmse:18.47833\tTrain-r2:-1.13097\tValidation-r2:-1.19370\n",
      "[100]\tTrain-rmse:16.05751\tValidation-rmse:15.90642\tTrain-r2:-0.59166\tValidation-r2:-0.62553\n",
      "[110]\tTrain-rmse:14.11624\tValidation-rmse:13.92258\tTrain-r2:-0.23007\tValidation-r2:-0.24535\n",
      "[120]\tTrain-rmse:12.63789\tValidation-rmse:12.40835\tTrain-r2:0.01408\tValidation-r2:0.01081\n",
      "[130]\tTrain-rmse:11.53121\tValidation-rmse:11.27408\tTrain-r2:0.17919\tValidation-r2:0.18339\n",
      "[140]\tTrain-rmse:10.71230\tValidation-rmse:10.42957\tTrain-r2:0.29163\tValidation-r2:0.30115\n",
      "[150]\tTrain-rmse:10.10233\tValidation-rmse:9.80329\tTrain-r2:0.37001\tValidation-r2:0.38256\n",
      "[160]\tTrain-rmse:9.65800\tValidation-rmse:9.33643\tTrain-r2:0.42421\tValidation-r2:0.43997\n",
      "[170]\tTrain-rmse:9.34300\tValidation-rmse:9.01045\tTrain-r2:0.46115\tValidation-r2:0.47839\n",
      "[180]\tTrain-rmse:9.11249\tValidation-rmse:8.78326\tTrain-r2:0.48741\tValidation-r2:0.50436\n",
      "[190]\tTrain-rmse:8.94703\tValidation-rmse:8.62482\tTrain-r2:0.50586\tValidation-r2:0.52209\n",
      "[200]\tTrain-rmse:8.82188\tValidation-rmse:8.50413\tTrain-r2:0.51959\tValidation-r2:0.53537\n",
      "[210]\tTrain-rmse:8.72764\tValidation-rmse:8.41691\tTrain-r2:0.52980\tValidation-r2:0.54485\n",
      "[220]\tTrain-rmse:8.65458\tValidation-rmse:8.35334\tTrain-r2:0.53763\tValidation-r2:0.55170\n",
      "[230]\tTrain-rmse:8.59642\tValidation-rmse:8.30509\tTrain-r2:0.54383\tValidation-r2:0.55686\n",
      "[240]\tTrain-rmse:8.55235\tValidation-rmse:8.27676\tTrain-r2:0.54849\tValidation-r2:0.55988\n",
      "[250]\tTrain-rmse:8.51189\tValidation-rmse:8.25203\tTrain-r2:0.55276\tValidation-r2:0.56251\n",
      "[260]\tTrain-rmse:8.47794\tValidation-rmse:8.23317\tTrain-r2:0.55632\tValidation-r2:0.56450\n",
      "[270]\tTrain-rmse:8.44774\tValidation-rmse:8.21818\tTrain-r2:0.55947\tValidation-r2:0.56609\n",
      "[280]\tTrain-rmse:8.41993\tValidation-rmse:8.20869\tTrain-r2:0.56237\tValidation-r2:0.56709\n",
      "[290]\tTrain-rmse:8.39061\tValidation-rmse:8.19804\tTrain-r2:0.56541\tValidation-r2:0.56821\n",
      "[300]\tTrain-rmse:8.36872\tValidation-rmse:8.19227\tTrain-r2:0.56768\tValidation-r2:0.56882\n",
      "[310]\tTrain-rmse:8.34774\tValidation-rmse:8.18629\tTrain-r2:0.56984\tValidation-r2:0.56945\n",
      "[320]\tTrain-rmse:8.32826\tValidation-rmse:8.18031\tTrain-r2:0.57185\tValidation-r2:0.57008\n",
      "[330]\tTrain-rmse:8.29968\tValidation-rmse:8.17397\tTrain-r2:0.57478\tValidation-r2:0.57074\n",
      "[340]\tTrain-rmse:8.28019\tValidation-rmse:8.16691\tTrain-r2:0.57677\tValidation-r2:0.57148\n",
      "[350]\tTrain-rmse:8.25495\tValidation-rmse:8.16494\tTrain-r2:0.57935\tValidation-r2:0.57169\n",
      "[360]\tTrain-rmse:8.23604\tValidation-rmse:8.16639\tTrain-r2:0.58127\tValidation-r2:0.57154\n",
      "[370]\tTrain-rmse:8.21318\tValidation-rmse:8.16110\tTrain-r2:0.58360\tValidation-r2:0.57209\n",
      "[380]\tTrain-rmse:8.19224\tValidation-rmse:8.15200\tTrain-r2:0.58572\tValidation-r2:0.57305\n",
      "[390]\tTrain-rmse:8.17248\tValidation-rmse:8.15340\tTrain-r2:0.58771\tValidation-r2:0.57290\n",
      "[400]\tTrain-rmse:8.15338\tValidation-rmse:8.14773\tTrain-r2:0.58964\tValidation-r2:0.57349\n",
      "[410]\tTrain-rmse:8.13736\tValidation-rmse:8.14369\tTrain-r2:0.59125\tValidation-r2:0.57392\n",
      "[420]\tTrain-rmse:8.11952\tValidation-rmse:8.14410\tTrain-r2:0.59304\tValidation-r2:0.57388\n",
      "[430]\tTrain-rmse:8.10213\tValidation-rmse:8.14137\tTrain-r2:0.59478\tValidation-r2:0.57416\n",
      "[440]\tTrain-rmse:8.08832\tValidation-rmse:8.14249\tTrain-r2:0.59616\tValidation-r2:0.57404\n",
      "[450]\tTrain-rmse:8.07616\tValidation-rmse:8.14353\tTrain-r2:0.59737\tValidation-r2:0.57393\n",
      "[460]\tTrain-rmse:8.06140\tValidation-rmse:8.13942\tTrain-r2:0.59884\tValidation-r2:0.57436\n",
      "[470]\tTrain-rmse:8.04574\tValidation-rmse:8.13772\tTrain-r2:0.60040\tValidation-r2:0.57454\n",
      "[480]\tTrain-rmse:8.03396\tValidation-rmse:8.13878\tTrain-r2:0.60157\tValidation-r2:0.57443\n",
      "[490]\tTrain-rmse:8.02413\tValidation-rmse:8.13711\tTrain-r2:0.60254\tValidation-r2:0.57461\n",
      "[500]\tTrain-rmse:8.01197\tValidation-rmse:8.14097\tTrain-r2:0.60375\tValidation-r2:0.57420\n",
      "[510]\tTrain-rmse:7.99928\tValidation-rmse:8.13780\tTrain-r2:0.60500\tValidation-r2:0.57453\n",
      "[520]\tTrain-rmse:7.99057\tValidation-rmse:8.13694\tTrain-r2:0.60586\tValidation-r2:0.57462\n",
      "[530]\tTrain-rmse:7.97585\tValidation-rmse:8.13749\tTrain-r2:0.60731\tValidation-r2:0.57457\n",
      "[540]\tTrain-rmse:7.96535\tValidation-rmse:8.14160\tTrain-r2:0.60835\tValidation-r2:0.57414\n",
      "[550]\tTrain-rmse:7.95131\tValidation-rmse:8.14005\tTrain-r2:0.60973\tValidation-r2:0.57430\n",
      "[560]\tTrain-rmse:7.93975\tValidation-rmse:8.14130\tTrain-r2:0.61086\tValidation-r2:0.57417\n",
      "[570]\tTrain-rmse:7.92289\tValidation-rmse:8.14464\tTrain-r2:0.61251\tValidation-r2:0.57382\n",
      "Stopping. Best iteration:\n",
      "[522]\tTrain-rmse:7.98468\tValidation-rmse:8.13686\tTrain-r2:0.60644\tValidation-r2:0.57463\n",
      "\n"
     ]
    }
   ],
   "source": [
    "import xgboost as xgb\n",
    "\n",
    "from sklearn.metrics import r2_score\n",
    "\n",
    "from sklearn.model_selection import train_test_split\n",
    "\n",
    "X_train, X_valid, y_train, y_valid = train_test_split(x_train,Y_train,test_size=0.2,random_state=42)\n",
    "\n",
    "d_train = xgb.DMatrix(X_train,label=y_train)\n",
    "d_valid = xgb.DMatrix(X_valid,label=y_valid)\n",
    "d_test = xgb.DMatrix(x_test)\n",
    "\n",
    "params = {}\n",
    "\n",
    "params['Objective'] = 'reg:linear'\n",
    "\n",
    "params['eta'] = 0.02\n",
    "\n",
    "params['max_depth'] = 4\n",
    "\n",
    "def xgb_r2score(preds,dtrain):\n",
    "    labels = dtrain.get_label()\n",
    "    return 'r2',r2_score(labels,preds)\n",
    "\n",
    "watchlist = [(d_train,'Train'),(d_valid,'Validation')]\n",
    "\n",
    "clf = xgb.train(params,d_train,1000,watchlist,early_stopping_rounds=50,\n",
    "                feval=xgb_r2score,maximize=True,verbose_eval=10)"
   ]
  },
  {
   "cell_type": "markdown",
   "metadata": {},
   "source": [
    "# Predict the output"
   ]
  },
  {
   "cell_type": "code",
   "execution_count": 50,
   "metadata": {},
   "outputs": [],
   "source": [
    "p_test = clf.predict(d_test)\n",
    "\n",
    "prediction = pd.DataFrame()\n",
    "\n",
    "prediction['ID'] = y_test\n",
    "prediction['y'] = p_test"
   ]
  },
  {
   "cell_type": "code",
   "execution_count": 51,
   "metadata": {},
   "outputs": [
    {
     "data": {
      "text/html": [
       "<div>\n",
       "<style scoped>\n",
       "    .dataframe tbody tr th:only-of-type {\n",
       "        vertical-align: middle;\n",
       "    }\n",
       "\n",
       "    .dataframe tbody tr th {\n",
       "        vertical-align: top;\n",
       "    }\n",
       "\n",
       "    .dataframe thead th {\n",
       "        text-align: right;\n",
       "    }\n",
       "</style>\n",
       "<table border=\"1\" class=\"dataframe\">\n",
       "  <thead>\n",
       "    <tr style=\"text-align: right;\">\n",
       "      <th></th>\n",
       "      <th>ID</th>\n",
       "      <th>y</th>\n",
       "    </tr>\n",
       "  </thead>\n",
       "  <tbody>\n",
       "    <tr>\n",
       "      <th>0</th>\n",
       "      <td>1</td>\n",
       "      <td>77.835999</td>\n",
       "    </tr>\n",
       "    <tr>\n",
       "      <th>1</th>\n",
       "      <td>2</td>\n",
       "      <td>95.389694</td>\n",
       "    </tr>\n",
       "    <tr>\n",
       "      <th>2</th>\n",
       "      <td>3</td>\n",
       "      <td>77.872467</td>\n",
       "    </tr>\n",
       "    <tr>\n",
       "      <th>3</th>\n",
       "      <td>4</td>\n",
       "      <td>76.158180</td>\n",
       "    </tr>\n",
       "    <tr>\n",
       "      <th>4</th>\n",
       "      <td>5</td>\n",
       "      <td>111.108673</td>\n",
       "    </tr>\n",
       "  </tbody>\n",
       "</table>\n",
       "</div>"
      ],
      "text/plain": [
       "   ID           y\n",
       "0   1   77.835999\n",
       "1   2   95.389694\n",
       "2   3   77.872467\n",
       "3   4   76.158180\n",
       "4   5  111.108673"
      ]
     },
     "execution_count": 51,
     "metadata": {},
     "output_type": "execute_result"
    }
   ],
   "source": [
    "prediction.head()"
   ]
  },
  {
   "cell_type": "code",
   "execution_count": null,
   "metadata": {},
   "outputs": [],
   "source": []
  }
 ],
 "metadata": {
  "kernelspec": {
   "display_name": "Python 3",
   "language": "python",
   "name": "python3"
  },
  "language_info": {
   "codemirror_mode": {
    "name": "ipython",
    "version": 3
   },
   "file_extension": ".py",
   "mimetype": "text/x-python",
   "name": "python",
   "nbconvert_exporter": "python",
   "pygments_lexer": "ipython3",
   "version": "3.7.6"
  }
 },
 "nbformat": 4,
 "nbformat_minor": 4
}
